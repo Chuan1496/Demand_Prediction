{
 "cells": [
  {
   "cell_type": "code",
   "execution_count": 2,
   "id": "a7ff8866",
   "metadata": {},
   "outputs": [],
   "source": [
    "import numpy as np\n",
    "import pandas as pd\n",
    "from sklearn.preprocessing import MinMaxScaler\n",
    "from tensorflow.keras.models import Sequential\n",
    "from keras.layers import LSTM, Dense\n",
    "import matplotlib.pyplot as plt\n",
    "import tensorflow as tf"
   ]
  },
  {
   "cell_type": "code",
   "execution_count": null,
   "id": "ed93e4fc",
   "metadata": {},
   "outputs": [],
   "source": [
    "#Holiday,Season,Month,Week \n",
    "feature = ['Holiday', 'Season', 'Month', 'Week', 'Quantity']\n",
    "result = my_LSTM(feature)\n",
    "predict_LSTM = result[0]\n",
    "actual_result = result[1]"
   ]
  },
  {
   "cell_type": "code",
   "execution_count": null,
   "id": "da993072",
   "metadata": {},
   "outputs": [],
   "source": [
    "def my_LSTM(feature):\n",
    "    # Load the dataset\n",
    "    df = pd.read_csv('sale/sale.csv')  # Replace 'your_dataset.csv' with the actual file path or URL\n",
    "\n",
    "    #seperate dates for future plotting\n",
    "    dates = pd.to_datetime(df['Date'])\n",
    "\n",
    "    # Extract the relevant features\n",
    "    data = df[feature].values\n",
    "\n",
    "    # Scale the data\n",
    "    scaler = MinMaxScaler(feature_range=(0, 1))\n",
    "    data_scaled = scaler.fit_transform(data)\n",
    "\n",
    "    # Split into input (features) and output (demand) variables\n",
    "    features = data_scaled[:, :-1]\n",
    "    demand = data_scaled[:, -1]\n",
    "\n",
    "    #Split the dataset into training and testing sets\n",
    "    # Determine the train-test split ratio\n",
    "    train_ratio = 0.8\n",
    "    train_size = int(len(data) * train_ratio)\n",
    "\n",
    "    # Split the data into train and test sets\n",
    "    train_features = features[:train_size]\n",
    "    train_demand = demand[:train_size]\n",
    "    train_dates = dates[:train_size]\n",
    "    test_features = features[train_size:]\n",
    "    test_demand = demand[train_size:]\n",
    "    test_dates = dates[train_size:]\n",
    "\n",
    "    #Reshape the input data for LSTM\n",
    "    # Reshape the features data to match LSTM input shape (samples, time steps, features)\n",
    "    n_features = features.shape[1]\n",
    "    train_features = train_features.reshape((train_features.shape[0], 1, n_features))\n",
    "    test_features = test_features.reshape((test_features.shape[0], 1, n_features))\n",
    "\n",
    "    #Build and train the LSTM model\n",
    "    # Build the LSTM model\n",
    "    model = Sequential()\n",
    "    model.add(LSTM(50, activation='relu', input_shape=(1, n_features)))\n",
    "    model.add(Dense(1))\n",
    "    model.compile(optimizer='adam', loss='mse')\n",
    "\n",
    "    # Train the model\n",
    "    model.fit(train_features, train_demand, epochs=50, batch_size=16, verbose=1)\n",
    "\n",
    "    #Make predictions on the test set\n",
    "    # Generate predictions on the test set\n",
    "    predictions = model.predict(test_features)\n",
    "\n",
    "    # Inverse scale the predictions and actual demand\n",
    "    predictions = scaler.inverse_transform(np.concatenate((test_features.reshape(test_features.shape[0], -1), predictions), axis=1))[:, -1]\n",
    "    actual_demand = scaler.inverse_transform(np.concatenate((test_features.reshape(test_features.shape[0], -1), test_demand.reshape(-1, 1)), axis=1))[:, -1]\n",
    "\n",
    "    return predictions,actual_demand"
   ]
  },
  {
   "cell_type": "code",
   "execution_count": null,
   "id": "1cd0f8f5",
   "metadata": {},
   "outputs": [],
   "source": []
  },
  {
   "cell_type": "code",
   "execution_count": null,
   "id": "f50aa01b",
   "metadata": {},
   "outputs": [],
   "source": []
  },
  {
   "cell_type": "code",
   "execution_count": 3,
   "id": "8842dda1",
   "metadata": {},
   "outputs": [],
   "source": [
    "cost_per_unit = 352\n",
    "selling_price_per_unit = 700\n",
    "min_order_quantity = 10\n",
    "max_inventory = 20\n",
    "lead_time = 3\n",
    "safety_stock = 0  # Set the initial safety stock to 0\n"
   ]
  },
  {
   "cell_type": "code",
   "execution_count": 8,
   "id": "5ce4a13d",
   "metadata": {},
   "outputs": [
    {
     "name": "stdout",
     "output_type": "stream",
     "text": [
      "EOQ: 24.08318915758459\n"
     ]
    }
   ],
   "source": [
    "def calculate_eoq(forecasted_demand, ordering_cost_per_order, holding_cost_per_unit):\n",
    "    total_demand = sum(forecasted_demand)\n",
    "    eoq = np.sqrt((2 * total_demand * ordering_cost_per_order) / holding_cost_per_unit)\n",
    "    return eoq\n",
    "\n",
    "# Example usage:\n",
    "forecasted_demand = [5, 6, 6, 12]  # Adjust with your specific forecasted demand for each week\n",
    "ordering_cost_per_order = 50  # Adjust as per your specific ordering cost\n",
    "holding_cost_per_unit = 5  # Adjust as per your specific holding cost\n",
    "\n",
    "eoq = calculate_eoq(forecasted_demand, ordering_cost_per_order, holding_cost_per_unit)\n",
    "print(\"EOQ:\", eoq)\n"
   ]
  },
  {
   "cell_type": "code",
   "execution_count": 11,
   "id": "23a06d95",
   "metadata": {},
   "outputs": [
    {
     "name": "stdout",
     "output_type": "stream",
     "text": [
      "Optimal Order Quantity: 20\n"
     ]
    }
   ],
   "source": [
    "import math\n",
    "\n",
    "def calculate_optimal_order_quantity(demand, ordering_cost, holding_cost, max_inventory):\n",
    "    # Calculate the EOQ formula\n",
    "    eoq = math.sqrt((2 * demand * ordering_cost) / holding_cost)\n",
    "\n",
    "    # Adjust the EOQ based on the maximum inventory constraint\n",
    "    optimal_order_quantity = min(eoq, max_inventory)\n",
    "\n",
    "    return optimal_order_quantity\n",
    "\n",
    "# Given data\n",
    "forecasted_demand = [5, 6]\n",
    "ordering_cost = 500\n",
    "holding_cost = 5\n",
    "max_inventory = 20\n",
    "\n",
    "# Calculate the total demand\n",
    "total_demand = sum(forecasted_demand)\n",
    "\n",
    "# Calculate the optimal order quantity\n",
    "optimal_order_quantity = calculate_optimal_order_quantity(total_demand, ordering_cost, holding_cost, max_inventory)\n",
    "\n",
    "print(\"Optimal Order Quantity:\", optimal_order_quantity)\n"
   ]
  },
  {
   "cell_type": "code",
   "execution_count": null,
   "id": "04249b78",
   "metadata": {},
   "outputs": [],
   "source": []
  },
  {
   "cell_type": "code",
   "execution_count": null,
   "id": "6007c90e",
   "metadata": {},
   "outputs": [],
   "source": []
  }
 ],
 "metadata": {
  "kernelspec": {
   "display_name": "Python 3 (ipykernel)",
   "language": "python",
   "name": "python3"
  },
  "language_info": {
   "codemirror_mode": {
    "name": "ipython",
    "version": 3
   },
   "file_extension": ".py",
   "mimetype": "text/x-python",
   "name": "python",
   "nbconvert_exporter": "python",
   "pygments_lexer": "ipython3",
   "version": "3.11.4"
  }
 },
 "nbformat": 4,
 "nbformat_minor": 5
}
