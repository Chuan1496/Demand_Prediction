{
 "cells": [
  {
   "cell_type": "code",
   "execution_count": 21,
   "id": "aaba7db4",
   "metadata": {},
   "outputs": [],
   "source": [
    "import numpy as np\n",
    "import pandas as pd\n",
    "from sklearn.preprocessing import MinMaxScaler\n",
    "import tensorflow as tf\n",
    "from keras.models import Sequential\n",
    "from keras.layers import LSTM, Dense\n",
    "import matplotlib.pyplot as plt"
   ]
  },
  {
   "cell_type": "code",
   "execution_count": 22,
   "id": "3a625464",
   "metadata": {},
   "outputs": [],
   "source": [
    "# Load the dataset\n",
    "df = pd.read_csv('sale/sale.csv')  # Replace 'your_dataset.csv' with the actual file path or URL\n",
    "\n",
    "#seperate dates for future plotting\n",
    "dates = pd.to_datetime(df['Date'])\n",
    "\n",
    "# Extract the relevant features\n",
    "data = df[['Holiday', 'Season', 'Month', 'Quantity']].values\n",
    "\n",
    "# Scale the data\n",
    "scaler = MinMaxScaler(feature_range=(0, 1))\n",
    "data_scaled = scaler.fit_transform(data)\n",
    "\n",
    "# Split into input (features) and output (demand) variables\n",
    "features = data_scaled[:, :-1]\n",
    "demand = data_scaled[:, -1]"
   ]
  },
  {
   "cell_type": "code",
   "execution_count": 23,
   "id": "9eec558e",
   "metadata": {},
   "outputs": [],
   "source": [
    "#Split the dataset into training and testing sets\n",
    "# Determine the train-test split ratio\n",
    "train_ratio = 0.8\n",
    "train_size = int(len(data) * train_ratio)\n",
    "\n",
    "# Split the data into train and test sets\n",
    "train_features = features[:train_size]\n",
    "train_demand = demand[:train_size]\n",
    "train_dates = dates[:train_size]\n",
    "test_features = features[train_size:]\n",
    "test_demand = demand[train_size:]\n",
    "test_dates = dates[train_size:]"
   ]
  },
  {
   "cell_type": "code",
   "execution_count": 24,
   "id": "f605b71e",
   "metadata": {},
   "outputs": [],
   "source": [
    "#Reshape the input data for LSTM\n",
    "# Reshape the features data to match LSTM input shape (samples, time steps, features)\n",
    "n_features = features.shape[1]\n",
    "train_features = train_features.reshape((train_features.shape[0], 1, n_features))\n",
    "test_features = test_features.reshape((test_features.shape[0], 1, n_features))"
   ]
  },
  {
   "cell_type": "code",
   "execution_count": 25,
   "id": "b9423f96",
   "metadata": {},
   "outputs": [
    {
     "name": "stdout",
     "output_type": "stream",
     "text": [
      "Epoch 1/50\n",
      "11/11 [==============================] - 4s 4ms/step - loss: 0.1160\n",
      "Epoch 2/50\n",
      "11/11 [==============================] - 0s 5ms/step - loss: 0.0982\n",
      "Epoch 3/50\n",
      "11/11 [==============================] - 0s 5ms/step - loss: 0.0818\n",
      "Epoch 4/50\n",
      "11/11 [==============================] - 0s 5ms/step - loss: 0.0682\n",
      "Epoch 5/50\n",
      "11/11 [==============================] - 0s 5ms/step - loss: 0.0580\n",
      "Epoch 6/50\n",
      "11/11 [==============================] - 0s 5ms/step - loss: 0.0524\n",
      "Epoch 7/50\n",
      "11/11 [==============================] - 0s 5ms/step - loss: 0.0491\n",
      "Epoch 8/50\n",
      "11/11 [==============================] - 0s 5ms/step - loss: 0.0468\n",
      "Epoch 9/50\n",
      "11/11 [==============================] - 0s 4ms/step - loss: 0.0446\n",
      "Epoch 10/50\n",
      "11/11 [==============================] - 0s 5ms/step - loss: 0.0427\n",
      "Epoch 11/50\n",
      "11/11 [==============================] - 0s 5ms/step - loss: 0.0407\n",
      "Epoch 12/50\n",
      "11/11 [==============================] - 0s 5ms/step - loss: 0.0391\n",
      "Epoch 13/50\n",
      "11/11 [==============================] - 0s 5ms/step - loss: 0.0374\n",
      "Epoch 14/50\n",
      "11/11 [==============================] - 0s 5ms/step - loss: 0.0360\n",
      "Epoch 15/50\n",
      "11/11 [==============================] - 0s 5ms/step - loss: 0.0348\n",
      "Epoch 16/50\n",
      "11/11 [==============================] - 0s 4ms/step - loss: 0.0336\n",
      "Epoch 17/50\n",
      "11/11 [==============================] - 0s 5ms/step - loss: 0.0324\n",
      "Epoch 18/50\n",
      "11/11 [==============================] - 0s 5ms/step - loss: 0.0315\n",
      "Epoch 19/50\n",
      "11/11 [==============================] - 0s 5ms/step - loss: 0.0305\n",
      "Epoch 20/50\n",
      "11/11 [==============================] - 0s 5ms/step - loss: 0.0296\n",
      "Epoch 21/50\n",
      "11/11 [==============================] - 0s 5ms/step - loss: 0.0289\n",
      "Epoch 22/50\n",
      "11/11 [==============================] - 0s 5ms/step - loss: 0.0281\n",
      "Epoch 23/50\n",
      "11/11 [==============================] - 0s 5ms/step - loss: 0.0275\n",
      "Epoch 24/50\n",
      "11/11 [==============================] - 0s 4ms/step - loss: 0.0267\n",
      "Epoch 25/50\n",
      "11/11 [==============================] - 0s 4ms/step - loss: 0.0263\n",
      "Epoch 26/50\n",
      "11/11 [==============================] - 0s 4ms/step - loss: 0.0256\n",
      "Epoch 27/50\n",
      "11/11 [==============================] - 0s 4ms/step - loss: 0.0252\n",
      "Epoch 28/50\n",
      "11/11 [==============================] - 0s 4ms/step - loss: 0.0249\n",
      "Epoch 29/50\n",
      "11/11 [==============================] - 0s 4ms/step - loss: 0.0245\n",
      "Epoch 30/50\n",
      "11/11 [==============================] - 0s 4ms/step - loss: 0.0242\n",
      "Epoch 31/50\n",
      "11/11 [==============================] - 0s 4ms/step - loss: 0.0238\n",
      "Epoch 32/50\n",
      "11/11 [==============================] - 0s 4ms/step - loss: 0.0235\n",
      "Epoch 33/50\n",
      "11/11 [==============================] - 0s 4ms/step - loss: 0.0233\n",
      "Epoch 34/50\n",
      "11/11 [==============================] - 0s 5ms/step - loss: 0.0230\n",
      "Epoch 35/50\n",
      "11/11 [==============================] - 0s 5ms/step - loss: 0.0228\n",
      "Epoch 36/50\n",
      "11/11 [==============================] - 0s 5ms/step - loss: 0.0227\n",
      "Epoch 37/50\n",
      "11/11 [==============================] - 0s 5ms/step - loss: 0.0223\n",
      "Epoch 38/50\n",
      "11/11 [==============================] - 0s 4ms/step - loss: 0.0222\n",
      "Epoch 39/50\n",
      "11/11 [==============================] - 0s 5ms/step - loss: 0.0221\n",
      "Epoch 40/50\n",
      "11/11 [==============================] - 0s 4ms/step - loss: 0.0219\n",
      "Epoch 41/50\n",
      "11/11 [==============================] - 0s 4ms/step - loss: 0.0217\n",
      "Epoch 42/50\n",
      "11/11 [==============================] - 0s 4ms/step - loss: 0.0217\n",
      "Epoch 43/50\n",
      "11/11 [==============================] - 0s 4ms/step - loss: 0.0215\n",
      "Epoch 44/50\n",
      "11/11 [==============================] - 0s 5ms/step - loss: 0.0214\n",
      "Epoch 45/50\n",
      "11/11 [==============================] - 0s 5ms/step - loss: 0.0215\n",
      "Epoch 46/50\n",
      "11/11 [==============================] - 0s 4ms/step - loss: 0.0213\n",
      "Epoch 47/50\n",
      "11/11 [==============================] - 0s 4ms/step - loss: 0.0211\n",
      "Epoch 48/50\n",
      "11/11 [==============================] - 0s 4ms/step - loss: 0.0212\n",
      "Epoch 49/50\n",
      "11/11 [==============================] - 0s 5ms/step - loss: 0.0213\n",
      "Epoch 50/50\n",
      "11/11 [==============================] - 0s 5ms/step - loss: 0.0209\n"
     ]
    },
    {
     "data": {
      "text/plain": [
       "<keras.src.callbacks.History at 0x12dc0b9de90>"
      ]
     },
     "execution_count": 25,
     "metadata": {},
     "output_type": "execute_result"
    }
   ],
   "source": [
    "#Build and train the LSTM model\n",
    "# Build the LSTM model\n",
    "model = Sequential()\n",
    "model.add(LSTM(50, activation='relu', input_shape=(1, n_features)))\n",
    "model.add(Dense(1))\n",
    "model.compile(optimizer='adam', loss='mse')\n",
    "\n",
    "# Train the model\n",
    "model.fit(train_features, train_demand, epochs=50, batch_size=16, verbose=1)"
   ]
  },
  {
   "cell_type": "code",
   "execution_count": 26,
   "id": "7ecba1d1",
   "metadata": {},
   "outputs": [
    {
     "name": "stdout",
     "output_type": "stream",
     "text": [
      "2/2 [==============================] - 0s 6ms/step\n",
      "    Actual Demand  Predicted Demand\n",
      "0             4.0          4.430096\n",
      "1             6.0          4.647331\n",
      "2             4.0          4.647331\n",
      "3             5.0          4.647331\n",
      "4             5.0          4.647331\n",
      "5             1.0          6.438528\n",
      "6             3.0          6.438528\n",
      "7             2.0          5.893780\n",
      "8             2.0          6.438528\n",
      "9             2.0          6.438528\n",
      "10            3.0          6.820408\n",
      "11            5.0          6.820408\n",
      "12            5.0          6.820408\n",
      "13            6.0          6.820408\n",
      "14           10.0          7.211094\n",
      "15            9.0          7.211094\n",
      "16           11.0          7.211094\n",
      "17           12.0          7.211094\n",
      "18           14.0         12.350368\n",
      "19           13.0         12.350368\n",
      "20           10.0         12.350368\n",
      "21           16.0         12.350368\n",
      "22           15.0         12.350368\n",
      "23           11.0         10.203363\n",
      "24           10.0          9.479526\n",
      "25           12.0          9.479526\n",
      "26           13.0         10.203363\n",
      "27           15.0         10.296823\n",
      "28           14.0          9.647793\n",
      "29           12.0          9.647793\n",
      "30           11.0          9.647793\n",
      "31           10.0         10.375465\n",
      "32            5.0          5.467182\n",
      "33            9.0          5.467182\n",
      "34            6.0          5.467182\n",
      "35            7.0          5.467182\n",
      "36            6.0          6.197675\n",
      "37            6.0          5.488569\n",
      "38            4.0          5.488569\n",
      "39            7.0          5.488569\n",
      "40            5.0          6.116067\n",
      "41            3.0          5.513117\n"
     ]
    }
   ],
   "source": [
    "#Make predictions on the test set\n",
    "# Generate predictions on the test set\n",
    "predictions = model.predict(test_features)\n",
    "\n",
    "# Inverse scale the predictions and actual demand\n",
    "predictions = scaler.inverse_transform(np.concatenate((test_features.reshape(test_features.shape[0], -1), predictions), axis=1))[:, -1]\n",
    "actual_demand = scaler.inverse_transform(np.concatenate((test_features.reshape(test_features.shape[0], -1), test_demand.reshape(-1, 1)), axis=1))[:, -1]\n",
    "\n",
    "# Compare predictions with actual demand\n",
    "results = pd.DataFrame({'Actual Demand': actual_demand, 'Predicted Demand': predictions})\n",
    "print(results)"
   ]
  },
  {
   "cell_type": "code",
   "execution_count": 17,
   "id": "98f3ce6d",
   "metadata": {},
   "outputs": [
    {
     "data": {
      "image/png": "[encoded data removed]",
      "text/plain": [
       "<Figure size 1000x200 with 1 Axes>"
      ]
     },
     "metadata": {},
     "output_type": "display_data"
    }
   ],
   "source": [
    "plt.figure(figsize=(10,2))\n",
    "plt.plot(test_dates,actual_demand, color = 'black', label = 'Test')\n",
    "plt.plot(test_dates,predictions, color = 'orange', label = 'pred')\n",
    "plt.legend()\n",
    "plt.show()"
   ]
  },
  {
   "cell_type": "code",
   "execution_count": 18,
   "id": "6545ee47",
   "metadata": {},
   "outputs": [
    {
     "name": "stdout",
     "output_type": "stream",
     "text": [
      "RMSE: 2.7487838281052723\n"
     ]
    }
   ],
   "source": [
    "from sklearn.metrics import mean_squared_error\n",
    "\n",
    "# Assuming you have the actual_demand and predictions arrays\n",
    "\n",
    "# Calculate the RMSE\n",
    "rmse = np.sqrt(mean_squared_error(actual_demand, predictions))\n",
    "\n",
    "print('RMSE:', rmse)"
   ]
  },
  {
   "cell_type": "code",
   "execution_count": null,
   "id": "a213b2fe",
   "metadata": {},
   "outputs": [],
   "source": []
  },
  {
   "cell_type": "code",
   "execution_count": null,
   "id": "09ee9f98",
   "metadata": {},
   "outputs": [],
   "source": []
  }
 ],
 "metadata": {
  "kernelspec": {
   "display_name": "Python 3 (ipykernel)",
   "language": "python",
   "name": "python3"
  },
  "language_info": {
   "codemirror_mode": {
    "name": "ipython",
    "version": 3
   },
   "file_extension": ".py",
   "mimetype": "text/x-python",
   "name": "python",
   "nbconvert_exporter": "python",
   "pygments_lexer": "ipython3",
   "version": "3.11.4"
  }
 },
 "nbformat": 4,
 "nbformat_minor": 5
}
